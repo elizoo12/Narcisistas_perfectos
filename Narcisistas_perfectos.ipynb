{
 "cells": [
  {
   "cell_type": "markdown",
   "metadata": {},
   "source": [
    "<html>\n",
    "    <body>\n",
    "        <header>\n",
    "            <h1 style=\"font-family:georgia;font-size:50px; text-align: center; background-color:#B0C4DE\">Proyecto de mates discretas</h1>\n",
    "            <h3 style=\"font-family:american typewriter;font-size:30px; color:SteelBlue; text-align: center\">Búsqueda de números NNP's</h3>\n",
    "            <br><br>\n",
    "            <div>\n",
    "                <h4>Características del portátil utilizado para la ejecución del código:</h4>\n",
    "                <ul>\n",
    "                    <li>Modelo: HP Pavilion Plus</li>\n",
    "                    <li>Procesador: Intel Core Ultra 5 125H ~3'6 Ghz</li>\n",
    "                    <li>RAM: 16 GB</li>\n",
    "                </ul>\n",
    "            </div>\n",
    "        </header>\n",
    "        <br>\n",
    "        <section>\n",
    "            <article>\n",
    "                    <h1>Condición de criba 1</h1>\n",
    "                    <h3>Todo NNP cumple que si es par tiene una cantidad par de dígitos impares, y si es impar tiene una cantidad impar de dígitos impares</h3>\n",
    "                    <h6>Razonamientos empleados:</h6>\n",
    "                    <br>\n",
    "                    <div style=\"padding-left:30px\">\n",
    "                        <ol>\n",
    "                          <li>Dado dos números m y n, si son ambos pares o ambos impares, su suma es un número par, pero si uno de ellos es par y el otro impar, su suma es impar</li>\n",
    "                          <li>Dado un numero m, si es par, todas sus potencias son pares, y si es impar todas sus potencias son impares.</li>\n",
    "                        </ol>\n",
    "                        <p style=\"padding-left:13px\">Dada la segunda propiedad de los naturales, nos da igual la cantidad de digitos del números, los dígitos impares seguiran siendo impares aun elevandolos a la longitud del número, y los pares igual, si sabemos que nuestro número es par y sus dígitos suman una cantidad impar, sabemos que no podrá ser un NNP.</p>\n",
    "                        <p style=\"padding-left:13px;color:SteelBlue\"><strong>(Importante resaltar que todos los NNP cumplen está condición, pero no todos los que cumplan esta condición serán NNP)<strong></p>\n",
    "                    </div>\n",
    "            </article>\n",
    "            <br><br>\n",
    "            <article>\n",
    "                <h1>Condición de criba 2</h1>\n",
    "                <h3>Si n es un natural acabado en cero (o divisible entre diez), si n es NNP, n+1 tambien lo es, y si n no es NNP, n+1 tampoco lo es.</h3>\n",
    "                <h6>Razonamientos empleados:</h6>\n",
    "                <br>\n",
    "                <div style=\"padding-left:30px\">\n",
    "                    <ol>\n",
    "                      <li>Todas las potencias de cero dan cero (excluyendo 0^0).</li>\n",
    "                      <li>Todas las potencias de uno dan uno.</li>\n",
    "                    </ol>\n",
    "                    <p style=\"padding-left:13px\">Ya que si n acaba en cero, solo difiere de su consecutivo en la unidad, la suma de las d potencias de los digitos de n y de n+1 solo difieren en uno.</p>\n",
    "                    <p style=\"padding-left:13px\">Ya que esta condición de criba es aplicable a un conjunto menor que la criba uno, y es menos costosa computacionalmente, esta debería ser comprobada antes que la primera</p>\n",
    "                    <p style=\"padding-left:13px;color:SteelBlue\"><strong>(Esta condición se da en los dos sentidos siempre, a menos que no consideremos el 0 como NNP)</strong></p>\n",
    "                </div>\n",
    "                <br><br>\n",
    "                <div>\n",
    "                    <p>Los resultados anteriores fueron \"concebidos\" antes de diseñar un algoritmo de búsqueda de NNP \"eficiente\".</p>\n",
    "                    <p>A partir de estas propiedades de los NNP, además de su definición y lo leído en los enlaces proporcionados por el profesorado en el documento del reto, fuimos pasando por diferentes algoritmos que iremos presentando ahora, además de todas sus decisiones de diseño, y al final del documento se encontrará la función finalmente utilizada y la que presentamos al reto (a pesar de sus lentos tiempos, que serán justificados a lo largo del documento) y la ejecución de todas las cantidades de dígitos para las que existen NNP.</p>\n",
    "                    <p>A pesar de ser un poco pedante, al tener varias opciones para hacer las mismas operaciones simples, hicimos pruebas para ver cuales eran las formas más rápidas de hacer según que cálculos, aquí dejamos un código de ejemplo de cómo fue este proceso, pero al ser igual para todas ellas, las siguientes solo serán mencionadas con referencia a este código</p>\n",
    "                </div>\n",
    "            </article>\n",
    "        </section>\n",
    "    </body>\n",
    "</html>"
   ]
  },
  {
   "cell_type": "code",
   "execution_count": 20,
   "metadata": {},
   "outputs": [
    {
     "name": "stdout",
     "output_type": "stream",
     "text": [
      "l[0]%2 is faster\n",
      "0.00015578619786538184\n",
      "0.00015389019972644746\n",
      "0.004754893860081211\n",
      "0.9878294857637341\n",
      "0.03236459198772086\n"
     ]
    }
   ],
   "source": [
    "#este codigo guarda en 3 listas los tiempos que se tarda en realizar diferentes operaciones con el mismo fin\n",
    "#en este caso concluimos que la expresion m%2 era ligeramente superior a las otras dos\n",
    "#es importante destacar que cuando hicimos este codigo aun estabamos 100% en contra de añadir cualquier tipo de libreria externa\n",
    "#a nuestro proyecto aunque fuese para medir el tiempo como time o datatime\n",
    "#Aun con la misma filosofia en el proyecto, terminamos siendo algo mas flexibles en este sentido mas al final del proyecto\n",
    "\n",
    "m=Integer(randint(10**100,10**101))\n",
    "l=m.digits()\n",
    "\n",
    "v=[]\n",
    "for i in range(1000):\n",
    "    v.append(timeit(\"m%2\", repeat=100, number=1,seconds=true))\n",
    "vv=[]\n",
    "for i in range(1000):\n",
    "    vv.append(timeit(\"l[0]%2\", repeat=100, number=1, seconds=true))\n",
    "w=[]\n",
    "for i in range(1000):\n",
    "    w.append(timeit(\"mod(m,2)\",repeat=100, number=1, seconds=true))\n",
    "\n",
    "    \n",
    "sum_v=0\n",
    "for i in v:\n",
    "    sum_v+=i\n",
    "sum_vv=0\n",
    "for i in vv:\n",
    "    sum_vv+=i\n",
    "\n",
    "sum_w=0\n",
    "for i in w:\n",
    "    sum_w+=i\n",
    "    \n",
    "sol=min(sum_w,sum_vv,sum_v)\n",
    "\n",
    "if(sol==sum_w):\n",
    "    print(\"mod function is faster\")\n",
    "elif(sol==sum_vv):\n",
    "    print(\"l[0]%2 is faster\")\n",
    "else:\n",
    "    print(\"m%2 is faster\")\n",
    "\n",
    "\n",
    "print(sum_v)\n",
    "print(sum_vv)\n",
    "print(sum_w)\n",
    "print(sum_vv/sum_v)\n",
    "print(sum_vv/sum_w)"
   ]
  },
  {
   "cell_type": "markdown",
   "metadata": {},
   "source": [
    "<html>\n",
    "    <body>\n",
    "        <div>\n",
    "            <p>Entonces llegaron las primeras aproximaciones al proyecto</p>\n",
    "            <p>La primera decisión de diseño era simplemente recorrer todos los números con esa cantidad de dígitos, algo bastante ineficiente pero que nos permitió ver en acción nuestros métodos de criba (no cabe mencionar que antes de esto medimos cómo sería la búsqueda a fuerza bruta y la comparamos con este primer algoritmo para ver que tanto nos ahorraba)</p>\n",
    "        </div>\n",
    "    </body>\n",
    "</html>"
   ]
  },
  {
   "cell_type": "code",
   "execution_count": 21,
   "metadata": {},
   "outputs": [],
   "source": [
    "# el primero metodo de criba era una funcion externa a la funcion principal y comprobaba la suma de numeros impares\n",
    "#ademas de la paridad del numero en cuestion\n",
    "def criba1(num,digits):\n",
    "    par=(digits[0]%2==0)\n",
    "    counter=0\n",
    "\n",
    "    for j in digits:\n",
    "        \n",
    "        if (j!=0 and j%2==1):\n",
    "            counter+=1\n",
    "\n",
    "    par_impares=(counter%2==0)\n",
    "    valido=(par and par_impares) or (not par and not par_impares)\n",
    "    return valido\n",
    "     "
   ]
  },
  {
   "cell_type": "code",
   "execution_count": 22,
   "metadata": {},
   "outputs": [],
   "source": [
    "# como se puede observar la segunda criba está implicita en el algoritmo  \n",
    "def NNP1(d):\n",
    "    N=(2,12,13,15,18,22,26,28,30,36)\n",
    "    if d in N:\n",
    "        return\n",
    "    prev_num_was_NNP=False\n",
    "    prev_num_ends=9\n",
    "    powers=[i**d for i in range(10)]\n",
    "    for i in range(10**(d-1),10**(d)-1):\n",
    "        digits=Integer(i).digits()\n",
    "        if(criba1(i,digits)):\n",
    "            sum=0\n",
    "            pasar=False;\n",
    "            for digi in digits:\n",
    "                sum+=powers[digi]\n",
    "                if(sum>i):\n",
    "                    pasar=true\n",
    "            if(pasar):\n",
    "                continue\n",
    "            if(sum==i):\n",
    "                print(i)\n",
    "            "
   ]
  },
  {
   "cell_type": "code",
   "execution_count": 24,
   "metadata": {},
   "outputs": [
    {
     "name": "stdout",
     "output_type": "stream",
     "text": [
      "1741725\n",
      "4210818\n",
      "9800817\n",
      "9926315\n",
      "CPU times: user 26.4 s, sys: 16 ms, total: 26.4 s\n",
      "Wall time: 45.7 s\n"
     ]
    }
   ],
   "source": [
    "#como vemos, el tiempo para tan solo 7 digitos ya era ligeramente alto, y hicimos algunas remodelaciones a la funcion\n",
    "%time NNP1(7)"
   ]
  },
  {
   "cell_type": "markdown",
   "metadata": {},
   "source": [
    "<html>\n",
    "    <body>\n",
    "        <div>\n",
    "            <p>En este punto ya íbamos a abandonar el recorrido de todos los dígitos, pero aprovechamos tener un algoritmo que hacía tantas sumas para comprobar cual sería la forma más eficiente de hacerlo, quedándonos con esta función finalmente (que además añadió el extraer la segunda funcion de criba del código principal)</p>\n",
    "        </div>\n",
    "    </body>\n",
    "</html>"
   ]
  },
  {
   "cell_type": "code",
   "execution_count": 25,
   "metadata": {},
   "outputs": [],
   "source": [
    "def criba2(prev_num_was_NNP, prev_num_end):\n",
    "    if(prev_num_was_NNP and prev_num_end==0):\n",
    "        return True\n",
    "    else:\n",
    "        return False\n",
    "    \n",
    "def NNP2(d):\n",
    "    N=(2,12,13,15,18,22,26,28,30,36)\n",
    "    if d in N:\n",
    "        return\n",
    "    prev_num_was_NNP=False\n",
    "    prev_num_ends=9\n",
    "    powers=[i**d for i in range(10)]\n",
    "    for i in range(10**(d-1),10**(d)-1):\n",
    "        \n",
    "        if(not criba2(prev_num_was_NNP, prev_num_ends)):\n",
    "            if(prev_num_ends==0):\n",
    "                prev_num_was_NNP=false\n",
    "                prev_num_ends=1\n",
    "            digits=Integer(i).digits()\n",
    "            if(criba1(i,digits)):\n",
    "                suma=sum(powers[k] for k in digits)\n",
    "                if(suma==i):\n",
    "                    print(i)\n",
    "                    prev_num_was_NNP=True\n",
    "                else:\n",
    "                     prev_num_was_NNP=False\n",
    "                prev_num_ends=digits[0]\n",
    "        else:\n",
    "            print(i)\n",
    "            prev_num_was_NNP=True\n",
    "            prev_num_end=(1)"
   ]
  },
  {
   "cell_type": "code",
   "execution_count": 26,
   "metadata": {},
   "outputs": [
    {
     "name": "stdout",
     "output_type": "stream",
     "text": [
      "1741725\n",
      "4210818\n",
      "9800817\n",
      "9926315\n",
      "CPU times: user 24.1 s, sys: 47 ms, total: 24.2 s\n",
      "Wall time: 41.5 s\n"
     ]
    }
   ],
   "source": [
    "%time NNP2(7)"
   ]
  },
  {
   "cell_type": "markdown",
   "metadata": {},
   "source": [
    "<html>\n",
    "    <body>\n",
    "        <h3>Algunos pasos antes de empezar a desarrollar un algoritmo basado en la combinatoria</h3>\n",
    "        <ol>\n",
    "            <li>\n",
    "                Quisimos ver que tantas comprobaciones nos ahorraría la combinatoria, la idea es crear un conjunto de posibles NNP lo más reducido posible para comprobar esos explícitamente ya que no conocemos ninguna forma de comprobar si un número es NNP más haya de su definición.\n",
    "                <br><br>La combinatoria lo que nos ofrecía eran las contraseñas de longitud d para un alfabeto de longitud a en nuestro caso 10.\n",
    "                <br><br>El cardinal de este conjunto se calcula como el numero combinatorio (a+d-1 sobre d) o para nosotros (9+d sobre d)\n",
    "                <br><br>Queriendo ver que la función combinations nos daba realmente lo que necesitábamos al pasarle un lista con todos los elementos repetidos d veces, lo que hicimos fue contar la longitud del iterable que nos devolvía para varios d diferentes y ver que era el cardinal esperado (esto debido a lo tedioso que sería comprobar a mano todas las combinaciones posibles)\n",
    "                <br><br>Una vez comprobado empezamos a trabajar en métodos para reducir este conjunto.\n",
    "                <br><br>Usar la combinatoria supone tener un único número, o lista de números representando a todos los números que se optienen permutando sus dígitos.\n",
    "                <br><br>Esto implica no saber el último dígito de los números y por lo tanto no conocer la paridad de los números que estamos comprobando, lo que hizo más bien poco útil el primer método de criba que habíamos desarrollado al inicio.\n",
    "                <br><br>Aun así se pudo aprovechar levemente, primero veremos el primer código que desarrollamos con combinatoria y explicaremos cada uno de sus pasos.\n",
    "            </li>\n",
    "        </ol>\n",
    "    </body>\n",
    "</html>"
   ]
  },
  {
   "cell_type": "code",
   "execution_count": 27,
   "metadata": {},
   "outputs": [],
   "source": [
    "def descartar_impares_criba1(d):\n",
    "    l=[1]*d+[3]*d+[5]*d+[7]*d+[9]*(d)\n",
    "    total_combinations=Combinations(l,d)\n",
    "    num_combs=[]\n",
    "    for i in total_combinations:\n",
    "        num_combs.append(ZZ(i,10))\n",
    "    combi=set(num_combs)\n",
    "    return combi\n",
    "\n",
    "def newNNPA(d):\n",
    "    if(d>2):\n",
    "        l=[0]*(d)+[1]*(d)+[2]*d+[3]*d+[4]*d+[5]*d+[6]*d+[7]*d+[8]*d+[9]*(d)\n",
    "        powers=[i**d for i in range(10)]\n",
    "        total_combinations=Combinations(l,d)\n",
    "        num_combs=[]\n",
    "        for i in total_combinations:\n",
    "            num_combs.append(ZZ(i,10))\n",
    "        combi=set(num_combs)\n",
    "        print(len(combi))\n",
    "        if(d%2==0):\n",
    "            no_NNP=descartar_impares_criba1(d)\n",
    "            combi=combi-no_NNP\n",
    "            #print(combi)\n",
    "        print(len(combi), \" size despues\")\n"
   ]
  },
  {
   "cell_type": "code",
   "execution_count": 28,
   "metadata": {},
   "outputs": [
    {
     "name": "stdout",
     "output_type": "stream",
     "text": [
      "d=3\n",
      "220\n",
      "220  size despues\n",
      "d=4\n",
      "715\n",
      "645  size despues\n",
      "d=10\n",
      "92378\n",
      "91377  size despues\n"
     ]
    }
   ],
   "source": [
    "print(\"d=3\")\n",
    "newNNPA(3)\n",
    "print(\"d=4\")\n",
    "newNNPA(4)\n",
    "print(\"d=10\")\n",
    "newNNPA(10)"
   ]
  },
  {
   "cell_type": "markdown",
   "metadata": {},
   "source": [
    "<html>\n",
    "    <body>\n",
    "        <p>Como se puede ver, el nuevo método de criba está limitado a números de longitud par, partiendo del método de criba 1, nos vemos forzados a quitar sólo los números con todo dígitos impares de longitud par, esto es debido a que sumar un número par de números impares da un número par, los que haría que el número que se comprueba deba ser par, pero partimos de que todos sus dígitos son impares, por contradiccion no pueden ser NNP. Con los números pares esto no sirve porque no cambian la paridad al sumarse.</p>\n",
    "        <p> El problema de este codigo era que tardaba mucho en calcular las combinaciones iniciales, de forma que decidimos intentar reducir la lista con la que calculabamos todas las combinaciones, primero con geogebra usando funciones logaritmicas, pero vimos que escribir esas listas en sage seria muy tardado, de forma que hicimos un pequeño script para escribirnoslas directamente con el siguiente codigo:</p>\n",
    "    </body>\n",
    "</html>"
   ]
  },
  {
   "cell_type": "code",
   "execution_count": 29,
   "metadata": {},
   "outputs": [
    {
     "name": "stdout",
     "output_type": "stream",
     "text": [
      "elif(d==1):\n",
      " \tlista=[0]*(0)+[1]*(1)+[2]*(1)+[3]*(1)+[4]*(1)+[5]*(1)+[6]*(1)+[7]*(1)+[8]*(1)+[9]*(1)+\n",
      "elif(d==2):\n",
      " \tlista=[0]*(1)+[1]*(1)+[2]*(1)+[3]*(2)+[4]*(2)+[5]*(2)+[6]*(2)+[7]*(2)+[8]*(1)+[9]*(1)+\n",
      "elif(d==3):\n",
      " \tlista=[0]*(2)+[1]*(2)+[2]*(2)+[3]*(2)+[4]*(3)+[5]*(3)+[6]*(3)+[7]*(2)+[8]*(1)+[9]*(1)+\n",
      "elif(d==4):\n",
      " \tlista=[0]*(3)+[1]*(3)+[2]*(3)+[3]*(3)+[4]*(4)+[5]*(4)+[6]*(4)+[7]*(4)+[8]*(2)+[9]*(1)+\n",
      "elif(d==5):\n",
      " \tlista=[0]*(4)+[1]*(4)+[2]*(4)+[3]*(4)+[4]*(4)+[5]*(5)+[6]*(5)+[7]*(5)+[8]*(3)+[9]*(1)+\n",
      "elif(d==6):\n",
      " \tlista=[0]*(5)+[1]*(5)+[2]*(5)+[3]*(5)+[4]*(5)+[5]*(5)+[6]*(6)+[7]*(6)+[8]*(3)+[9]*(1)+\n",
      "elif(d==7):\n",
      " \tlista=[0]*(6)+[1]*(6)+[2]*(6)+[3]*(6)+[4]*(6)+[5]*(6)+[6]*(7)+[7]*(7)+[8]*(4)+[9]*(2)+\n",
      "elif(d==8):\n",
      " \tlista=[0]*(7)+[1]*(7)+[2]*(7)+[3]*(7)+[4]*(7)+[5]*(7)+[6]*(8)+[7]*(8)+[8]*(5)+[9]*(2)+\n",
      "elif(d==9):\n",
      " \tlista=[0]*(8)+[1]*(8)+[2]*(8)+[3]*(8)+[4]*(8)+[5]*(8)+[6]*(8)+[7]*(9)+[8]*(7)+[9]*(2)+\n",
      "elif(d==10):\n",
      " \tlista=[0]*(9)+[1]*(9)+[2]*(9)+[3]*(9)+[4]*(9)+[5]*(9)+[6]*(9)+[7]*(10)+[8]*(9)+[9]*(2)+\n",
      "elif(d==11):\n",
      " \tlista=[0]*(10)+[1]*(10)+[2]*(10)+[3]*(10)+[4]*(10)+[5]*(10)+[6]*(10)+[7]*(11)+[8]*(11)+[9]*(3)+\n",
      "elif(d==12):\n",
      " \tlista=[0]*(11)+[1]*(11)+[2]*(11)+[3]*(11)+[4]*(11)+[5]*(11)+[6]*(11)+[7]*(12)+[8]*(12)+[9]*(3)+\n",
      "elif(d==13):\n",
      " \tlista=[0]*(12)+[1]*(12)+[2]*(12)+[3]*(12)+[4]*(12)+[5]*(12)+[6]*(12)+[7]*(13)+[8]*(13)+[9]*(3)+\n",
      "elif(d==14):\n",
      " \tlista=[0]*(13)+[1]*(13)+[2]*(13)+[3]*(13)+[4]*(13)+[5]*(13)+[6]*(13)+[7]*(13)+[8]*(14)+[9]*(4)+\n",
      "elif(d==15):\n",
      " \tlista=[0]*(14)+[1]*(14)+[2]*(14)+[3]*(14)+[4]*(14)+[5]*(14)+[6]*(14)+[7]*(14)+[8]*(15)+[9]*(4)+\n",
      "elif(d==16):\n",
      " \tlista=[0]*(15)+[1]*(15)+[2]*(15)+[3]*(15)+[4]*(15)+[5]*(15)+[6]*(15)+[7]*(15)+[8]*(16)+[9]*(5)+\n",
      "elif(d==17):\n",
      " \tlista=[0]*(16)+[1]*(16)+[2]*(16)+[3]*(16)+[4]*(16)+[5]*(16)+[6]*(16)+[7]*(16)+[8]*(17)+[9]*(5)+\n",
      "elif(d==18):\n",
      " \tlista=[0]*(17)+[1]*(17)+[2]*(17)+[3]*(17)+[4]*(17)+[5]*(17)+[6]*(17)+[7]*(17)+[8]*(18)+[9]*(6)+\n",
      "elif(d==19):\n",
      " \tlista=[0]*(18)+[1]*(18)+[2]*(18)+[3]*(18)+[4]*(18)+[5]*(18)+[6]*(18)+[7]*(18)+[8]*(19)+[9]*(7)+\n",
      "elif(d==20):\n",
      " \tlista=[0]*(19)+[1]*(19)+[2]*(19)+[3]*(19)+[4]*(19)+[5]*(19)+[6]*(19)+[7]*(19)+[8]*(20)+[9]*(8)+\n",
      "elif(d==21):\n",
      " \tlista=[0]*(20)+[1]*(20)+[2]*(20)+[3]*(20)+[4]*(20)+[5]*(20)+[6]*(20)+[7]*(20)+[8]*(21)+[9]*(9)+\n",
      "elif(d==22):\n",
      " \tlista=[0]*(20)+[1]*(20)+[2]*(20)+[3]*(20)+[4]*(20)+[5]*(20)+[6]*(20)+[7]*(21)+[8]*(22)+[9]*(10)+\n",
      "elif(d==23):\n",
      " \tlista=[0]*(21)+[1]*(21)+[2]*(21)+[3]*(21)+[4]*(21)+[5]*(21)+[6]*(21)+[7]*(21)+[8]*(23)+[9]*(11)+\n",
      "elif(d==24):\n",
      " \tlista=[0]*(22)+[1]*(22)+[2]*(22)+[3]*(22)+[4]*(22)+[5]*(22)+[6]*(22)+[7]*(22)+[8]*(24)+[9]*(12)+\n",
      "elif(d==25):\n",
      " \tlista=[0]*(23)+[1]*(23)+[2]*(23)+[3]*(23)+[4]*(23)+[5]*(23)+[6]*(23)+[7]*(23)+[8]*(24)+[9]*(13)+\n",
      "elif(d==26):\n",
      " \tlista=[0]*(24)+[1]*(24)+[2]*(24)+[3]*(24)+[4]*(24)+[5]*(24)+[6]*(24)+[7]*(24)+[8]*(25)+[9]*(15)+\n",
      "elif(d==27):\n",
      " \tlista=[0]*(25)+[1]*(25)+[2]*(25)+[3]*(25)+[4]*(25)+[5]*(25)+[6]*(25)+[7]*(25)+[8]*(26)+[9]*(17)+\n",
      "elif(d==28):\n",
      " \tlista=[0]*(26)+[1]*(26)+[2]*(26)+[3]*(26)+[4]*(26)+[5]*(26)+[6]*(26)+[7]*(26)+[8]*(27)+[9]*(19)+\n",
      "elif(d==29):\n",
      " \tlista=[0]*(26)+[1]*(26)+[2]*(26)+[3]*(26)+[4]*(26)+[5]*(26)+[6]*(26)+[7]*(26)+[8]*(27)+[9]*(21)+\n",
      "elif(d==30):\n",
      " \tlista=[0]*(27)+[1]*(27)+[2]*(27)+[3]*(27)+[4]*(27)+[5]*(27)+[6]*(27)+[7]*(27)+[8]*(28)+[9]*(23)+\n",
      "elif(d==31):\n",
      " \tlista=[0]*(28)+[1]*(28)+[2]*(28)+[3]*(28)+[4]*(28)+[5]*(28)+[6]*(28)+[7]*(28)+[8]*(29)+[9]*(26)+\n",
      "elif(d==32):\n",
      " \tlista=[0]*(29)+[1]*(29)+[2]*(29)+[3]*(29)+[4]*(29)+[5]*(29)+[6]*(29)+[7]*(29)+[8]*(29)+[9]*(29)+\n",
      "elif(d==33):\n",
      " \tlista=[0]*(29)+[1]*(29)+[2]*(29)+[3]*(29)+[4]*(29)+[5]*(29)+[6]*(29)+[7]*(29)+[8]*(30)+[9]*(32)+\n",
      "elif(d==34):\n",
      " \tlista=[0]*(30)+[1]*(30)+[2]*(30)+[3]*(30)+[4]*(30)+[5]*(30)+[6]*(30)+[7]*(30)+[8]*(30)+[9]*(34)+\n",
      "elif(d==35):\n",
      " \tlista=[0]*(31)+[1]*(31)+[2]*(31)+[3]*(31)+[4]*(31)+[5]*(31)+[6]*(31)+[7]*(31)+[8]*(31)+[9]*(35)+\n",
      "elif(d==36):\n",
      " \tlista=[0]*(31)+[1]*(31)+[2]*(31)+[3]*(31)+[4]*(31)+[5]*(31)+[6]*(31)+[7]*(31)+[8]*(32)+[9]*(36)+\n",
      "elif(d==37):\n",
      " \tlista=[0]*(32)+[1]*(32)+[2]*(32)+[3]*(32)+[4]*(32)+[5]*(32)+[6]*(32)+[7]*(32)+[8]*(32)+[9]*(37)+\n",
      "elif(d==38):\n",
      " \tlista=[0]*(32)+[1]*(32)+[2]*(32)+[3]*(32)+[4]*(32)+[5]*(32)+[6]*(32)+[7]*(32)+[8]*(32)+[9]*(38)+\n",
      "elif(d==39):\n",
      " \tlista=[0]*(32)+[1]*(32)+[2]*(32)+[3]*(32)+[4]*(32)+[5]*(32)+[6]*(32)+[7]*(32)+[8]*(33)+[9]*(39)+\n"
     ]
    }
   ],
   "source": [
    "#codigo usado para optimizar la lista usada para las combinaciones\n",
    "def encontrar_descartes_num_por_potencias( potencia ,   num):\n",
    "    ahorro=0\n",
    "    is_lower=False\n",
    "    while((num^potencia)*(potencia-ahorro)+(9^potencia)*ahorro<10^(potencia-1)):\n",
    "        ahorro+=1\n",
    "        is_lower=True\n",
    "    if(not is_lower):\n",
    "        while((num^potencia)*(potencia-ahorro)>(10^potencia)-1):\n",
    "            ahorro+=1\n",
    "    return ahorro\n",
    "#codigo usado para escribir de forma explicita las listas y ahorrarnos tiempo y trabajo escribiendolas a mano\n",
    "for potencia in range(1,40):\n",
    "    lista=\"\"\n",
    "    for num in range(10):\n",
    "        lista=lista+f\"[{str(num)}]*({str(potencia-encontrar_descartes_num_por_potencias(potencia,num))})+\"\n",
    "    print(f\"elif(d=={potencia}):\\n \\tlista=\"+lista)"
   ]
  },
  {
   "cell_type": "markdown",
   "metadata": {},
   "source": [
    "<html>\n",
    "    <body>\n",
    "        <p>\n",
    "        este codigo nos permitio ahorrar algo de tiempo en el calculo de las combinaciones iniciales con la siguiente funcion inicial:\n",
    "        <p>\n",
    "    </body>\n",
    "</html>"
   ]
  },
  {
   "cell_type": "code",
   "execution_count": 30,
   "metadata": {},
   "outputs": [],
   "source": [
    "def set_a_quitar(d):\n",
    "    todos_los_descartes=list()\n",
    "    for i in range(1,9):\n",
    "        cantidad_num_mayor=d\n",
    "        solo_no_entra=True\n",
    "        for j in range(0,i+1):\n",
    "            mi_lista_para_combinar=[]\n",
    "            #print(f\"el grande {i} el pequeño {j} la suma: {((i**d)*(cantidad_num_mayor)+(j**d)*d-cantidad_num_mayor)}, la cantidad del mayor {cantidad_num_mayor}, cantidad del menor {d-cantidad_num_mayor}\")\n",
    "            \n",
    "            while(cantidad_num_mayor>0 and (((i**d)*(cantidad_num_mayor)+(j**d)*d-cantidad_num_mayor)>10**(d-1))):\n",
    "                #print(\"entraaaaa\")\n",
    "                #print(f\" bucle interno el grande {i} el pequeño {j} la suma: {((i**d)*(cantidad_num_mayor)+(j**d)*d-cantidad_num_mayor)}, la cantidad del mayor {cantidad_num_mayor}, cantidad del menor {d-cantidad_num_mayor}\")\n",
    "                cantidad_num_mayor-=1\n",
    "                solo_no_entra=False\n",
    "                \n",
    "            if(solo_no_entra):\n",
    "                mi_lista_para_combinar+=[i]*d+[j]*d\n",
    "            else:\n",
    "                mi_lista_para_combinar+=[i]*(cantidad_num_mayor)+[j]*(d-cantidad_num_mayor)\n",
    "            combinations=Combinations(mi_lista_para_combinar,d)\n",
    "            for k in combinations:\n",
    "                todos_los_descartes.append(ZZ(k,10))\n",
    "    return set(todos_los_descartes)\n",
    "    #este codigo es extraido de la funcion principal por ser demasiado engorroso, de cada a esclarecer el algoritmo de busqueda\n",
    "# hemos omitido este tipo de bloques sin sentido.\n",
    "def generate_lista(d):\n",
    "    if(d==1):\n",
    "        lista=[0]*(0)+[1]*(1)+[2]*(1)+[3]*(1)+[4]*(1)+[5]*(1)+[6]*(1)+[7]*(1)+[8]*(1)+[9]*(1)\n",
    "    elif(d==2):\n",
    "        lista=[0]*(1)+[1]*(1)+[2]*(1)+[3]*(2)+[4]*(2)+[5]*(2)+[6]*(2)+[7]*(2)+[8]*(1)+[9]*(1)\n",
    "    elif(d==3):\n",
    "        lista=[0]*(2)+[1]*(2)+[2]*(2)+[3]*(2)+[4]*(3)+[5]*(3)+[6]*(3)+[7]*(2)+[8]*(1)+[9]*(1)\n",
    "    elif(d==4):\n",
    "        lista=[0]*(3)+[1]*(3)+[2]*(3)+[3]*(3)+[4]*(4)+[5]*(4)+[6]*(4)+[7]*(4)+[8]*(2)+[9]*(1)\n",
    "    elif(d==5):\n",
    "        lista=[0]*(4)+[1]*(4)+[2]*(4)+[3]*(4)+[4]*(4)+[5]*(5)+[6]*(5)+[7]*(5)+[8]*(3)+[9]*(1)\n",
    "    elif(d==6):\n",
    "        lista=[0]*(5)+[1]*(5)+[2]*(5)+[3]*(5)+[4]*(5)+[5]*(5)+[6]*(6)+[7]*(6)+[8]*(3)+[9]*(1)\n",
    "    elif(d==7):\n",
    "        lista=[0]*(6)+[1]*(6)+[2]*(6)+[3]*(6)+[4]*(6)+[5]*(6)+[6]*(7)+[7]*(7)+[8]*(4)+[9]*(2)\n",
    "    elif(d==8):\n",
    "        lista=[0]*(7)+[1]*(7)+[2]*(7)+[3]*(7)+[4]*(7)+[5]*(7)+[6]*(8)+[7]*(8)+[8]*(5)+[9]*(2)\n",
    "    elif(d==9):\n",
    "        lista=[0]*(8)+[1]*(8)+[2]*(8)+[3]*(8)+[4]*(8)+[5]*(8)+[6]*(8)+[7]*(9)+[8]*(7)+[9]*(2)\n",
    "    elif(d==10):\n",
    "        lista=[0]*(9)+[1]*(9)+[2]*(9)+[3]*(9)+[4]*(9)+[5]*(9)+[6]*(9)+[7]*(10)+[8]*(9)+[9]*(2)\n",
    "    elif(d==11):\n",
    "        lista=[0]*(10)+[1]*(10)+[2]*(10)+[3]*(10)+[4]*(10)+[5]*(10)+[6]*(10)+[7]*(11)+[8]*(11)+[9]*(3)\n",
    "    elif(d==12):\n",
    "        lista=[0]*(11)+[1]*(11)+[2]*(11)+[3]*(11)+[4]*(11)+[5]*(11)+[6]*(11)+[7]*(12)+[8]*(12)+[9]*(3)\n",
    "    elif(d==13):\n",
    "        lista=[0]*(12)+[1]*(12)+[2]*(12)+[3]*(12)+[4]*(12)+[5]*(12)+[6]*(12)+[7]*(13)+[8]*(13)+[9]*(3)\n",
    "    elif(d==14):\n",
    "        lista=[0]*(13)+[1]*(13)+[2]*(13)+[3]*(13)+[4]*(13)+[5]*(13)+[6]*(13)+[7]*(13)+[8]*(14)+[9]*(4)\n",
    "    elif(d==15):\n",
    "        lista=[0]*(14)+[1]*(14)+[2]*(14)+[3]*(14)+[4]*(14)+[5]*(14)+[6]*(14)+[7]*(14)+[8]*(15)+[9]*(4)\n",
    "    elif(d==16):\n",
    "        lista=[0]*(15)+[1]*(15)+[2]*(15)+[3]*(15)+[4]*(15)+[5]*(15)+[6]*(15)+[7]*(15)+[8]*(16)+[9]*(5)\n",
    "    elif(d==17):\n",
    "        lista=[0]*(16)+[1]*(16)+[2]*(16)+[3]*(16)+[4]*(16)+[5]*(16)+[6]*(16)+[7]*(16)+[8]*(17)+[9]*(5)\n",
    "    elif(d==18):\n",
    "        lista=[0]*(17)+[1]*(17)+[2]*(17)+[3]*(17)+[4]*(17)+[5]*(17)+[6]*(17)+[7]*(17)+[8]*(18)+[9]*(6)\n",
    "    elif(d==19):\n",
    "        lista=[0]*(18)+[1]*(18)+[2]*(18)+[3]*(18)+[4]*(18)+[5]*(18)+[6]*(18)+[7]*(18)+[8]*(19)+[9]*(7)\n",
    "    elif(d==20):\n",
    "        lista=[0]*(19)+[1]*(19)+[2]*(19)+[3]*(19)+[4]*(19)+[5]*(19)+[6]*(19)+[7]*(19)+[8]*(20)+[9]*(8)\n",
    "    elif(d==21):\n",
    "        lista=[0]*(20)+[1]*(20)+[2]*(20)+[3]*(20)+[4]*(20)+[5]*(20)+[6]*(20)+[7]*(20)+[8]*(21)+[9]*(9)\n",
    "    elif(d==22):\n",
    "        lista=[0]*(20)+[1]*(20)+[2]*(20)+[3]*(20)+[4]*(20)+[5]*(20)+[6]*(20)+[7]*(21)+[8]*(22)+[9]*(10)\n",
    "    elif(d==23):\n",
    "        lista=[0]*(21)+[1]*(21)+[2]*(21)+[3]*(21)+[4]*(21)+[5]*(21)+[6]*(21)+[7]*(21)+[8]*(23)+[9]*(11)\n",
    "    elif(d==24):\n",
    "        lista=[0]*(22)+[1]*(22)+[2]*(22)+[3]*(22)+[4]*(22)+[5]*(22)+[6]*(22)+[7]*(22)+[8]*(24)+[9]*(12)\n",
    "    elif(d==25):\n",
    "        lista=[0]*(23)+[1]*(23)+[2]*(23)+[3]*(23)+[4]*(23)+[5]*(23)+[6]*(23)+[7]*(23)+[8]*(24)+[9]*(13)\n",
    "    elif(d==26):\n",
    "        lista=[0]*(24)+[1]*(24)+[2]*(24)+[3]*(24)+[4]*(24)+[5]*(24)+[6]*(24)+[7]*(24)+[8]*(25)+[9]*(15)\n",
    "    elif(d==27):\n",
    "        lista=[0]*(25)+[1]*(25)+[2]*(25)+[3]*(25)+[4]*(25)+[5]*(25)+[6]*(25)+[7]*(25)+[8]*(26)+[9]*(17)\n",
    "    elif(d==28):\n",
    "        lista=[0]*(26)+[1]*(26)+[2]*(26)+[3]*(26)+[4]*(26)+[5]*(26)+[6]*(26)+[7]*(26)+[8]*(27)+[9]*(19)\n",
    "    elif(d==29):\n",
    "        lista=[0]*(26)+[1]*(26)+[2]*(26)+[3]*(26)+[4]*(26)+[5]*(26)+[6]*(26)+[7]*(26)+[8]*(27)+[9]*(21)\n",
    "    elif(d==30):\n",
    "        lista=[0]*(27)+[1]*(27)+[2]*(27)+[3]*(27)+[4]*(27)+[5]*(27)+[6]*(27)+[7]*(27)+[8]*(28)+[9]*(23)\n",
    "    elif(d==31):\n",
    "        lista=[0]*(28)+[1]*(28)+[2]*(28)+[3]*(28)+[4]*(28)+[5]*(28)+[6]*(28)+[7]*(28)+[8]*(29)+[9]*(26)\n",
    "    elif(d==32):\n",
    "        lista=[0]*(29)+[1]*(29)+[2]*(29)+[3]*(29)+[4]*(29)+[5]*(29)+[6]*(29)+[7]*(29)+[8]*(29)+[9]*(29)\n",
    "    elif(d==33):\n",
    "        lista=[0]*(29)+[1]*(29)+[2]*(29)+[3]*(29)+[4]*(29)+[5]*(29)+[6]*(29)+[7]*(29)+[8]*(30)+[9]*(32)\n",
    "    elif(d==34):\n",
    "        lista=[0]*(30)+[1]*(30)+[2]*(30)+[3]*(30)+[4]*(30)+[5]*(30)+[6]*(30)+[7]*(30)+[8]*(30)+[9]*(34)\n",
    "    elif(d==35):\n",
    "        lista=[0]*(31)+[1]*(31)+[2]*(31)+[3]*(31)+[4]*(31)+[5]*(31)+[6]*(31)+[7]*(31)+[8]*(31)+[9]*(35)\n",
    "    elif(d==36):\n",
    "        lista=[0]*(31)+[1]*(31)+[2]*(31)+[3]*(31)+[4]*(31)+[5]*(31)+[6]*(31)+[7]*(31)+[8]*(32)+[9]*(36)\n",
    "    elif(d==37):\n",
    "        lista=[0]*(32)+[1]*(32)+[2]*(32)+[3]*(32)+[4]*(32)+[5]*(32)+[6]*(32)+[7]*(32)+[8]*(32)+[9]*(37)\n",
    "    elif(d==38):\n",
    "        lista=[0]*(32)+[1]*(32)+[2]*(32)+[3]*(32)+[4]*(32)+[5]*(32)+[6]*(32)+[7]*(32)+[8]*(32)+[9]*(38)\n",
    "    elif(d==39):\n",
    "        lista=[0]*(32)+[1]*(32)+[2]*(32)+[3]*(32)+[4]*(32)+[5]*(32)+[6]*(32)+[7]*(32)+[8]*(33)+[9]*(39)\n",
    "    return lista\n",
    "def abcdNNP(d):\n",
    "    inid=time.time()\n",
    "    l=generate_lista(d)\n",
    "    total_combinations=Combinations(l,d)\n",
    "    num_combs=[]\n",
    "    for i in total_combinations:\n",
    "        num_combs.append(ZZ(i,10))\n",
    "    \n",
    "    finald1=time.time()\n",
    "    print(finald1-inid, \" segundos de calculo de combinaciones iniciales\")\n",
    "    combi=set(num_combs)\n",
    "    finald2=time.time()\n",
    "    print(finald2-inid, \" segundos de calculo de combinaciones pasadas a sets\")\n",
    "    #print(combi)\n",
    "    print(len(combi), \" size antes\")\n",
    "    if(d%2==0):\n",
    "        no_NNP=simplifica(d)\n",
    "        combi=combi-no_NNP\n",
    "       \n",
    "    seguro_no_NNP=set_a_quitar(d)\n",
    "    combi=combi-seguro_no_NNP\n",
    "    combi=list(combi)\n",
    "    combi.sort()\n",
    "    print(len(combi), \" size despues\")\n",
    "    result=[]\n",
    "    finald=time.time()\n",
    "    print(finald-inid, \" segundos de calculo de combinaciones finales\")\n",
    "    #sumas=[]\n",
    "    for num in combi:\n",
    "        digitos=num.digits()\n",
    "        p=sum(k**d for k in digitos)\n",
    "        #sumas.append(p)\n",
    "        d_p=Integer(p).digits()\n",
    "        digitos.sort()\n",
    "        d_p.sort()\n",
    "        #print(\"combinacion: \", num , \"valor resultado: \", p, \"digitos: \", digitos, \"digitos result: \", d_p)\n",
    "        if(digitos==d_p):\n",
    "            print(p, \"positivo\\n\")\n",
    "            result.append(p)\n",
    "               \n",
    "    #print(sumas, \"todas las sumas\")\n",
    "    result.sort()\n",
    "    print(result, \"todos los positivos\")\n",
    "    "
   ]
  },
  {
   "cell_type": "markdown",
   "metadata": {},
   "source": [
    "<html>\n",
    "    <body>\n",
    "        <p>\n",
    "        pero aun era demasiado lento, asi que intentamos usar la tecnica del backtraking a la hora de calcular las combinaciones en vez de hacerlas todas de golpe, quedando algo asi:\n",
    "        </p>\n"
   ]
  },
  {
   "cell_type": "code",
   "execution_count": null,
   "metadata": {},
   "outputs": [],
   "source": [
    "def buscando_combinaciones_validas2(d):\n",
    " \n",
    "    #limites:\n",
    "    lower_limit=10^(d-1)\n",
    "    upper_limit=10^(d)-1\n",
    "    \n",
    "    #lista de las combinaciones a hacer\n",
    "    Result_comb_validas=set()\n",
    "\n",
    "    \n",
    "    \n",
    "    alfabeto_completo=(0,1,2,3,4,5,6,7,8,9)\n",
    "    \n",
    "    \n",
    "    #### VERSION CICLICA\n",
    "    p=1\n",
    "    while(p<=d and p<=10):\n",
    "        t_funcion = time.time()\n",
    "        \n",
    "        D=list(Combinations(alfabeto_completo,p))\n",
    "    \n",
    "        for i in D[::-1]:\n",
    "\n",
    "            l_aux=[]\n",
    "            base_total=sum(k**d for k in i)\n",
    "            # j no es el número de la lista sino la numeracion de la lista\n",
    "            for j in i:\n",
    "                base_aux=base_total-((j)**d)\n",
    "                des=descartes(lower_limit,upper_limit,j,i[0],i[-1],base_aux,d,p-1)\n",
    "                if(des==-1):\n",
    "                    break\n",
    "                l_aux= l_aux+([j]*(d-(p-1)-des))\n",
    "            print(f\"calculando combinaciones posibles de {i}\")\n",
    "            C=Combinations(l_aux,d)\n",
    "            num_combs=[]\n",
    "            for num in C:\n",
    "                num_combs.append(ZZ(num,10))\n",
    "            \n",
    "            Result_comb_validas.update(set(num_combs))\n",
    "        p+=1\n",
    "        t_iteracion = time.time()\n",
    "        print(\"tiempo de la iteracion desde el inicio\", t_iteracion-t_funcion)\n",
    "        \n",
    "  \n",
    "    return Result_comb_validas\n",
    "    \n",
    "    \n",
    "    def abcdNNP(d):\n",
    "    inid=time.time()\n",
    "    \n",
    "    combi=buscando_combinaciones_validas2(d)\n",
    " \n",
    "    finald1=time.time()\n",
    "    print(finald1-inid, \" segundos de calculo de combinaciones iniciales\")\n",
    "   \n",
    "\n",
    "    combi=list(combi)\n",
    "    combi.sort()\n",
    "    result=[]\n",
    "    t_calc_exp=time.time()\n",
    "    for num in combi:\n",
    "        digitos=num.digits()\n",
    "        p=sum(k**d for k in digitos)\n",
    "        d_p=Integer(p).digits()\n",
    "        digitos.sort()\n",
    "        d_p.sort()\n",
    "        if(digitos==d_p):\n",
    "            print(p, \"positivo\\n\")\n",
    "            result.append(p)\n",
    "    fi_t_calc=time.time()\n",
    "    print(f\"tiempo de calculo explicito {fi_t_calc-t_calc_exp}\")\n",
    "    result.sort()\n",
    "    print(result, \"todos los positivos\")\n",
    "    t_final = time.time()\n",
    "    print(t_final-inid)\n"
   ]
  },
  {
   "cell_type": "markdown",
   "metadata": {},
   "source": [
    "<html>\n",
    "    <body>\n",
    "        <p>\n",
    "        Terminó tardando mas de forma que dimos un paso atras a la version anterior y decidimos optimizar cada acceso a memoria, quitar variables usadas solo una vez y evitando cambio de tipo inecesarios para evitar tardar de mas, aun así quedo un tiempo bastante lento, debido a que decidimos no usar librerias externas mas que time para medir el tiempo, y al final Collections, que nos ofrecia la clase counter, lo que permite comprobar si dos clases tienen los mismos elementos, evitandonos ordenar la lista de digitos de la suma y de la combinacion para comprobar si eran NNP. asi terminamos con el codigo final:\n",
    "        </p>\n",
    "    </body>\n",
    "</html>"
   ]
  },
  {
   "cell_type": "markdown",
   "metadata": {},
   "source": [
    "<html>\n",
    "    <body>\n",
    "        <table>\n",
    "          <caption style=\"font-size:25px; text-align:center; font-family:american typewriter; color: black;\">Tiempos de ejecución</caption>\n",
    "          <tr style=\"background-color:\tAliceBlue\">\n",
    "              <td style=\"text-align: center; font-size:10px\">Nº de dígitos</td>\n",
    "              <th style=\"text-align: center\">1</th>\n",
    "              <th style=\"text-align: center\">3</th>\n",
    "              <th style=\"text-align: center\">4</th>\n",
    "              <th style=\"text-align: center\">5</th>\n",
    "              <th style=\"text-align: center\">6</th>\n",
    "              <th style=\"text-align: center\">7</th>\n",
    "              <th style=\"text-align: center\">8</th>\n",
    "              <th style=\"text-align: center\">9</th>\n",
    "              <th style=\"text-align: center\">10</th>\n",
    "              <th style=\"text-align: center\">11</th>\n",
    "              <th style=\"text-align: center\">14</th>\n",
    "              <th style=\"text-align: center\">16</th>\n",
    "              <th style=\"text-align: center\">17</th>\n",
    "              <th style=\"text-align: center\">19</th>\n",
    "              <th style=\"text-align: center\">20</th>\n",
    "          </tr>\n",
    "          <tr>\n",
    "            <th style=\"text-align: center; font-size:10px\">Tiempo de ejecución (s)</th>\n",
    "              <th style=\"text-align: center\">0.000979661</th>\n",
    "              <th style=\"text-align: center\">0.0401539</th>\n",
    "              <th style=\"text-align: center\">0.000163316</th>\n",
    "              <th style=\"text-align: center\">0.171391</th>\n",
    "              <th style=\"text-align: center\">0.318266</th>\n",
    "              <th style=\"text-align: center\">0.573115</th>\n",
    "              <th style=\"text-align: center\">1.05392</th>\n",
    "              <th style=\"text-align: center\">2.07479</th>\n",
    "              <th style=\"text-align: center\">2.79829</th>\n",
    "              <th style=\"text-align: center\">6.36865</th>\n",
    "              <th style=\"text-align: center\">27.7731</th>\n",
    "              <th style=\"text-align: center\">92.0429</th>\n",
    "              <th style=\"text-align: center\">145.205</th>\n",
    "              <th style=\"text-align: center\">361.333</th>\n",
    "              <th style=\"text-align: center\">374.138</th>\n",
    "          </tr>\n",
    "            <tr style=\"background-color:\tAliceBlue\">\n",
    "                <td style=\"text-align: center; font-size:10px\">Nº de dígitos</td>\n",
    "                <th style=\"text-align: center\">21</th>\n",
    "                <th style=\"text-align: center\">23</th>\n",
    "                <th style=\"text-align: center\">24</th>\n",
    "                <th style=\"text-align: center\">25</th>\n",
    "                <th style=\"text-align: center\">27</th>\n",
    "                <th style=\"text-align: center\">29</th>\n",
    "                <th style=\"text-align: center\">31</th>\n",
    "                <th style=\"text-align: center\">32</th>\n",
    "                <th style=\"text-align: center\">33</th>\n",
    "                <th style=\"text-align: center\">34</th>\n",
    "                <th style=\"text-align: center\">35</th>\n",
    "                <th style=\"text-align: center\">37</th>\n",
    "                <th style=\"text-align: center\">38</th>\n",
    "                <th style=\"text-align: center\">39</th>\n",
    "                <th style=\"text-align: center\">Total (h)</th>\n",
    "            </tr>\n",
    "            <tr>\n",
    "                <th style=\"text-align: center; font-size:10px\">Tiempo de ejecución (s)</th>\n",
    "              <th style=\"text-align: center\">1022.35</th>\n",
    "              <th style=\"text-align: center\">1728.17</th>\n",
    "              <th style=\"text-align: center\">2145.26</th>\n",
    "              <th style=\"text-align: center\">2617.02</th>\n",
    "              <th style=\"text-align: center\">9771.66</th>\n",
    "              <th style=\"text-align: center\">más de 21 h</th>\n",
    "              <th style=\"text-align: center\">---</th>\n",
    "              <th style=\"text-align: center\">---</th>\n",
    "              <th style=\"text-align: center\">---</th>\n",
    "              <th style=\"text-align: center\">---</th>\n",
    "              <th style=\"text-align: center\">---</th>\n",
    "              <th style=\"text-align: center\">---</th>\n",
    "              <th style=\"text-align: center\">---</th>\n",
    "              <th style=\"text-align: center\">---</th>\n",
    "              <th style=\"text-align: center\">5:04:58</th>\n",
    "            </tr>\n",
    "        </table>\n",
    "        <br><br>\n",
    "        <div>\n",
    "            <p>A la hora de intentar de ejecutar el código para nnps de 29 dígitos el tiempo de ejecución supera las 21 horas aproximadamente, debido a falta de tiempo no pudimos esperar a que completara la ejecución, que hubiera consistido en recorrer un rango en el que ya no existe ningún nnp adicinal, es decir, el programa en unas 21 horas aproximadamente, puede que menos, consiguió encontrar los cuatro nnp de 29 dígitos. Cuando intentamos ejecutar el código para la longitud de 31 cifras el programa fue abortado a las 4 horas de ejecución aproximadamente.</p>\n",
    "        </div>"
   ]
  },
  {
   "cell_type": "markdown",
   "metadata": {},
   "source": [
    "# codigo propio\n"
   ]
  },
  {
   "cell_type": "code",
   "execution_count": 2,
   "metadata": {},
   "outputs": [],
   "source": [
    "import time\n",
    "\n",
    "from collections import Counter\n",
    "\n",
    "def NNPA(d):\n",
    "    inid=time.time()\n",
    "    if d in (2,12,13,15,18,22,26,28,30,36):\n",
    "        return\n",
    "    if(d==1):\n",
    "        print([1,2,3,4,5,6,7,8,9])\n",
    "        return\n",
    "    elif(d==3):\n",
    "        lista=[0]*(2)+[1]*(2)+[2]*(2)+[3]*(2)+[4]*(3)+[5]*(3)+[6]*(3)+[7]*(2)+[8]*(1)+[9]*(1)\n",
    "    elif(d==4):\n",
    "        lista=[0]*(3)+[1]*(3)+[2]*(3)+[3]*(3)+[4]*(4)+[5]*(4)+[6]*(4)+[7]*(4)+[8]*(2)+[9]*(1)\n",
    "    elif(d==5):\n",
    "        lista=[0]*(4)+[1]*(4)+[2]*(4)+[3]*(4)+[4]*(4)+[5]*(5)+[6]*(5)+[7]*(5)+[8]*(3)+[9]*(1)\n",
    "    elif(d==6):\n",
    "        lista=[0]*(5)+[1]*(5)+[2]*(5)+[3]*(5)+[4]*(5)+[5]*(5)+[6]*(6)+[7]*(6)+[8]*(3)+[9]*(1)\n",
    "    elif(d==7):\n",
    "        lista=[0]*(6)+[1]*(6)+[2]*(6)+[3]*(6)+[4]*(6)+[5]*(6)+[6]*(7)+[7]*(7)+[8]*(4)+[9]*(2)\n",
    "    elif(d==8):\n",
    "        lista=[0]*(7)+[1]*(7)+[2]*(7)+[3]*(7)+[4]*(7)+[5]*(7)+[6]*(8)+[7]*(8)+[8]*(5)+[9]*(2)\n",
    "    elif(d==9):\n",
    "        lista=[0]*(8)+[1]*(8)+[2]*(8)+[3]*(8)+[4]*(8)+[5]*(8)+[6]*(8)+[7]*(9)+[8]*(7)+[9]*(2)\n",
    "    elif(d==10):\n",
    "        lista=[0]*(9)+[1]*(9)+[2]*(9)+[3]*(9)+[4]*(9)+[5]*(9)+[6]*(9)+[7]*(10)+[8]*(9)+[9]*(2)\n",
    "    elif(d==11):\n",
    "        lista=[0]*(10)+[1]*(10)+[2]*(10)+[3]*(10)+[4]*(10)+[5]*(10)+[6]*(10)+[7]*(11)+[8]*(11)+[9]*(3)\n",
    "    elif(d==14):\n",
    "        lista=[0]*(13)+[1]*(13)+[2]*(13)+[3]*(13)+[4]*(13)+[5]*(13)+[6]*(13)+[7]*(13)+[8]*(14)+[9]*(4)\n",
    "    elif(d==16):\n",
    "        lista=[0]*(15)+[1]*(15)+[2]*(15)+[3]*(15)+[4]*(15)+[5]*(15)+[6]*(15)+[7]*(15)+[8]*(16)+[9]*(5)\n",
    "    elif(d==17):\n",
    "        lista=[0]*(16)+[1]*(16)+[2]*(16)+[3]*(16)+[4]*(16)+[5]*(16)+[6]*(16)+[7]*(16)+[8]*(17)+[9]*(5)\n",
    "    elif(d==19):\n",
    "        lista=[0]*(18)+[1]*(18)+[2]*(18)+[3]*(18)+[4]*(18)+[5]*(18)+[6]*(18)+[7]*(18)+[8]*(19)+[9]*(7)\n",
    "    elif(d==20):\n",
    "        lista=[0]*(19)+[1]*(19)+[2]*(19)+[3]*(19)+[4]*(19)+[5]*(19)+[6]*(19)+[7]*(19)+[8]*(20)+[9]*(8)\n",
    "    elif(d==21):\n",
    "        lista=[0]*(20)+[1]*(20)+[2]*(20)+[3]*(20)+[4]*(20)+[5]*(20)+[6]*(20)+[7]*(20)+[8]*(21)+[9]*(9)\n",
    "    elif(d==23):\n",
    "        lista=[0]*(21)+[1]*(21)+[2]*(21)+[3]*(21)+[4]*(21)+[5]*(21)+[6]*(21)+[7]*(21)+[8]*(23)+[9]*(11)\n",
    "    elif(d==24):\n",
    "        lista=[0]*(22)+[1]*(22)+[2]*(22)+[3]*(22)+[4]*(22)+[5]*(22)+[6]*(22)+[7]*(22)+[8]*(24)+[9]*(12)\n",
    "    elif(d==25):\n",
    "        lista=[0]*(23)+[1]*(23)+[2]*(23)+[3]*(23)+[4]*(23)+[5]*(23)+[6]*(23)+[7]*(23)+[8]*(24)+[9]*(13)\n",
    "    elif(d==27):\n",
    "        lista=[0]*(25)+[1]*(25)+[2]*(25)+[3]*(25)+[4]*(25)+[5]*(25)+[6]*(25)+[7]*(25)+[8]*(26)+[9]*(17)\n",
    "    elif(d==29):\n",
    "        lista=[0]*(26)+[1]*(26)+[2]*(26)+[3]*(26)+[4]*(26)+[5]*(26)+[6]*(26)+[7]*(26)+[8]*(27)+[9]*(21)\n",
    "    elif(d==31):\n",
    "        lista=[0]*(28)+[1]*(28)+[2]*(28)+[3]*(28)+[4]*(28)+[5]*(28)+[6]*(28)+[7]*(28)+[8]*(29)+[9]*(26)\n",
    "    elif(d==32):\n",
    "        lista=[0]*(29)+[1]*(29)+[2]*(29)+[3]*(29)+[4]*(29)+[5]*(29)+[6]*(29)+[7]*(29)+[8]*(29)+[9]*(29)\n",
    "    elif(d==33):\n",
    "        lista=[0]*(29)+[1]*(29)+[2]*(29)+[3]*(29)+[4]*(29)+[5]*(29)+[6]*(29)+[7]*(29)+[8]*(30)+[9]*(32)\n",
    "    elif(d==34):\n",
    "        lista=[0]*(30)+[1]*(30)+[2]*(30)+[3]*(30)+[4]*(30)+[5]*(30)+[6]*(30)+[7]*(30)+[8]*(30)+[9]*(34)\n",
    "    elif(d==35):\n",
    "        lista=[0]*(31)+[1]*(31)+[2]*(31)+[3]*(31)+[4]*(31)+[5]*(31)+[6]*(31)+[7]*(31)+[8]*(31)+[9]*(35)\n",
    "    elif(d==37):\n",
    "        lista=[0]*(32)+[1]*(32)+[2]*(32)+[3]*(32)+[4]*(32)+[5]*(32)+[6]*(32)+[7]*(32)+[8]*(32)+[9]*(37)\n",
    "    elif(d==38):\n",
    "        lista=[0]*(32)+[1]*(32)+[2]*(32)+[3]*(32)+[4]*(32)+[5]*(32)+[6]*(32)+[7]*(32)+[8]*(32)+[9]*(38)\n",
    "    elif(d==39):\n",
    "        lista=[0]*(32)+[1]*(32)+[2]*(32)+[3]*(32)+[4]*(32)+[5]*(32)+[6]*(32)+[7]*(32)+[8]*(33)+[9]*(39)\n",
    "    combi=set()\n",
    "    for i in Combinations(lista,d):\n",
    "        combi.add(ZZ(i,10))\n",
    "    \n",
    "    finald1=time.time()\n",
    "    print(finald1-inid, \" segundos de calculo de combinaciones iniciales\")\n",
    "    finald2=time.time()\n",
    "    #print(combi)\n",
    "    print(len(combi), \" size antes\")\n",
    "    if(d%2==0):\n",
    "        if(d==4):\n",
    "            lista=[1]*(3)+[3]*(3)+[5]*(4)+[7]*(4)+[9]*(1)\n",
    "        elif(d==6):\n",
    "            lista=[1]*(5)+[3]*(5)+[5]*(5)+[7]*(6)+[9]*(1)\n",
    "        elif(d==8):\n",
    "            lista=[1]*(7)+[3]*(7)+[5]*(7)+[7]*(8)+[9]*(2)\n",
    "        elif(d==10):\n",
    "            lista=[1]*(9)+[3]*(9)+[5]*(9)+[7]*(10)+[9]*(2)\n",
    "        elif(d==14):\n",
    "            lista=[1]*(13)+[3]*(13)+[5]*(13)+[7]*(13)+[9]*(4)\n",
    "        elif(d==16):\n",
    "            lista=[1]*(15)+[3]*(15)+[5]*(15)+[7]*(15)+[9]*(5)\n",
    "        elif(d==20):\n",
    "            lista=[1]*(19)+[3]*(19)+[5]*(19)+[7]*(19)+[9]*(8)\n",
    "        elif(d==24):\n",
    "            lista=[1]*(22)+[3]*(22)+[5]*(22)+[7]*(22)+[9]*(12)\n",
    "        elif(d==32):\n",
    "            lista=[1]*(29)+[3]*(29)+[5]*(29)+[7]*(29)+[9]*(29)\n",
    "        elif(d==34):\n",
    "            lista=[1]*(30)+[3]*(30)+[5]*(30)+[7]*(30)+[9]*(34)\n",
    "        elif(d==38):\n",
    "            lista=[1]*(32)+[3]*(32)+[5]*(32)+[7]*(32)+[9]*(38)\n",
    "        no_NNP=set()\n",
    "        for i in Combinations(lista,d):\n",
    "            no_NNP.add(ZZ(i,10))\n",
    "        combi=combi-no_NNP\n",
    "       \n",
    "    \n",
    "    \n",
    "    \n",
    "    \n",
    "    seguro_no_NNP=set()\n",
    "    for i in [1,2,3,4,5,6,7,8]:\n",
    "        cantidad_num_mayor=d\n",
    "        solo_no_entra=True\n",
    "        for j in range(0,i+1):\n",
    "            # ya que no volvemos a usar la variable lista despues de calcular las combinaciones, reutilizamos la variable\n",
    "            lista=[]\n",
    "            while(cantidad_num_mayor>0 and (((i**d)*(cantidad_num_mayor)+(j**d)*d-cantidad_num_mayor)>10**(d-1))):\n",
    "                cantidad_num_mayor= cantidad_num_mayor -1 \n",
    "                solo_no_entra=False\n",
    "                \n",
    "            if(solo_no_entra):\n",
    "                lista= lista + [i]*d+[j]*d\n",
    "            else:\n",
    "                lista= lista +[i]*(cantidad_num_mayor)+[j]*(d-cantidad_num_mayor)\n",
    "            for k in Combinations(lista,d):\n",
    "                seguro_no_NNP.add(ZZ(k,10))\n",
    "                \n",
    "    combi=combi-seguro_no_NNP\n",
    "    print(len(combi), \" size despues\")\n",
    "    result=[]\n",
    "    finald=time.time()\n",
    "    print(finald-inid, \" segundos de calculo de combinaciones finales\")\n",
    "    #sumas=[]\n",
    "    for num in combi:\n",
    "        digitos=num.digits()\n",
    "        p=sum(k**d for k in digitos)\n",
    "        #print(\"combinacion: \", num , \"valor resultado: \", p, \"digitos: \", digitos, \"digitos result: \", d_p)\n",
    "        if(Counter(digitos)==Counter(Integer(p).digits())):\n",
    "            print(p, \"positivo\\n\")\n",
    "            result.append(p)\n",
    "               \n",
    "    #print(sumas, \"todas las sumas\")\n",
    "    result.sort()\n",
    "    print(result, \"todos los positivos\")\n",
    "    return"
   ]
  },
  {
   "cell_type": "code",
   "execution_count": null,
   "metadata": {},
   "outputs": [],
   "source": []
  },
  {
   "cell_type": "code",
   "execution_count": 2,
   "metadata": {},
   "outputs": [
    {
     "name": "stdout",
     "output_type": "stream",
     "text": [
      "[1, 2, 3, 4, 5, 6, 7, 8, 9]\n",
      "tiempo total es 0.0009796619415283203\n"
     ]
    }
   ],
   "source": [
    "t=time.time()\n",
    "NNPA(1)\n",
    "f=time.time()\n",
    "print(f\"tiempo total es {f-t}\")"
   ]
  },
  {
   "cell_type": "code",
   "execution_count": 4,
   "metadata": {
    "scrolled": true
   },
   "outputs": [
    {
     "name": "stdout",
     "output_type": "stream",
     "text": [
      "0.023402929306030273  segundos de calculo de combinaciones iniciales\n",
      "195  size antes\n",
      "192  size despues\n",
      "0.031670570373535156  segundos de calculo de combinaciones finales\n",
      "153 positivo\n",
      "\n",
      "370 positivo\n",
      "\n",
      "371 positivo\n",
      "\n",
      "407 positivo\n",
      "\n",
      "[153, 370, 371, 407] todos los positivos\n",
      "tiempo total es 0.04015398025512695\n"
     ]
    }
   ],
   "source": [
    "t=time.time()\n",
    "NNPA(3)\n",
    "f=time.time()\n",
    "print(f\"tiempo total es {f-t}\")"
   ]
  },
  {
   "cell_type": "code",
   "execution_count": 2,
   "metadata": {},
   "outputs": [
    {
     "name": "stdout",
     "output_type": "stream",
     "text": [
      "0.033438682556152344  segundos de calculo de combinaciones iniciales\n",
      "646  size antes\n",
      "591  size despues\n",
      "0.053067684173583984  segundos de calculo de combinaciones finales\n",
      "1634 positivo\n",
      "\n",
      "8208 positivo\n",
      "\n",
      "9474 positivo\n",
      "\n",
      "[1634, 8208, 9474] todos los positivos\n",
      "tiempo total es 0.06269288063049316\n"
     ]
    }
   ],
   "source": [
    "t=time.time()\n",
    "NNPA(4)\n",
    "f=time.time()\n",
    "print(f\"tiempo total es {f-t}\")"
   ]
  },
  {
   "cell_type": "code",
   "execution_count": 3,
   "metadata": {},
   "outputs": [
    {
     "name": "stdout",
     "output_type": "stream",
     "text": [
      "0.12576580047607422  segundos de calculo de combinaciones iniciales\n",
      "1767  size antes\n",
      "1764  size despues\n",
      "0.13900971412658691  segundos de calculo de combinaciones finales\n",
      "93084 positivo\n",
      "\n",
      "54748 positivo\n",
      "\n",
      "92727 positivo\n",
      "\n",
      "[54748, 92727, 93084] todos los positivos\n",
      "tiempo total es 0.17139172554016113\n"
     ]
    }
   ],
   "source": [
    "t=time.time()\n",
    "NNPA(5)\n",
    "f=time.time()\n",
    "print(f\"tiempo total es {f-t}\")"
   ]
  },
  {
   "cell_type": "code",
   "execution_count": 4,
   "metadata": {},
   "outputs": [
    {
     "name": "stdout",
     "output_type": "stream",
     "text": [
      "0.22814249992370605  segundos de calculo de combinaciones iniciales\n",
      "4230  size antes\n",
      "4092  size despues\n",
      "0.26096415519714355  segundos de calculo de combinaciones finales\n",
      "548834 positivo\n",
      "\n",
      "[548834] todos los positivos\n",
      "tiempo total es 0.3182661533355713\n"
     ]
    }
   ],
   "source": [
    "t=time.time()\n",
    "NNPA(6)\n",
    "f=time.time()\n",
    "print(f\"tiempo total es {f-t}\")"
   ]
  },
  {
   "cell_type": "code",
   "execution_count": 5,
   "metadata": {},
   "outputs": [
    {
     "name": "stdout",
     "output_type": "stream",
     "text": [
      "0.4388561248779297  segundos de calculo de combinaciones iniciales\n",
      "10664  size antes\n",
      "10662  size despues\n",
      "0.4533984661102295  segundos de calculo de combinaciones finales\n",
      "9926315 positivo\n",
      "\n",
      "1741725 positivo\n",
      "\n",
      "9800817 positivo\n",
      "\n",
      "4210818 positivo\n",
      "\n",
      "[1741725, 4210818, 9800817, 9926315] todos los positivos\n",
      "tiempo total es 0.5731148719787598\n"
     ]
    }
   ],
   "source": [
    "t=time.time()\n",
    "NNPA(7)\n",
    "f=time.time()\n",
    "print(f\"tiempo total es {f-t}\")"
   ]
  },
  {
   "cell_type": "code",
   "execution_count": 6,
   "metadata": {},
   "outputs": [
    {
     "name": "stdout",
     "output_type": "stream",
     "text": [
      "0.8242056369781494  segundos de calculo de combinaciones iniciales\n",
      "22247  size antes\n",
      "21880  size despues\n",
      "0.8468344211578369  segundos de calculo de combinaciones finales\n",
      "24678050 positivo\n",
      "\n",
      "24678051 positivo\n",
      "\n",
      "88593477 positivo\n",
      "\n",
      "[24678050, 24678051, 88593477] todos los positivos\n",
      "tiempo total es 1.0539295673370361\n"
     ]
    }
   ],
   "source": [
    "t=time.time()\n",
    "NNPA(8)\n",
    "f=time.time()\n",
    "print(f\"tiempo total es {f-t}\")"
   ]
  },
  {
   "cell_type": "code",
   "execution_count": 7,
   "metadata": {},
   "outputs": [
    {
     "name": "stdout",
     "output_type": "stream",
     "text": [
      "1.6536588668823242  segundos de calculo de combinaciones iniciales\n",
      "43598  size antes\n",
      "43597  size despues\n",
      "1.6666696071624756  segundos de calculo de combinaciones finales\n",
      "472335975 positivo\n",
      "\n",
      "912985153 positivo\n",
      "\n",
      "146511208 positivo\n",
      "\n",
      "534494836 positivo\n",
      "\n",
      "[146511208, 472335975, 534494836, 912985153] todos los positivos\n",
      "tiempo total es 2.0747952461242676\n"
     ]
    }
   ],
   "source": [
    "t=time.time()\n",
    "NNPA(9)\n",
    "f=time.time()\n",
    "print(f\"tiempo total es {f-t}\")"
   ]
  },
  {
   "cell_type": "code",
   "execution_count": 2,
   "metadata": {},
   "outputs": [
    {
     "name": "stdout",
     "output_type": "stream",
     "text": [
      "2.146885871887207  segundos de calculo de combinaciones iniciales\n",
      "80930  size antes\n",
      "80262  size despues\n",
      "2.184574604034424  segundos de calculo de combinaciones finales\n",
      "4679307774 positivo\n",
      "\n",
      "[4679307774] todos los positivos\n",
      "tiempo total es 2.798292875289917\n"
     ]
    }
   ],
   "source": [
    "t=time.time()\n",
    "NNPA(10)\n",
    "f=time.time()\n",
    "print(f\"tiempo total es {f-t}\")"
   ]
  },
  {
   "cell_type": "code",
   "execution_count": 8,
   "metadata": {},
   "outputs": [
    {
     "name": "stdout",
     "output_type": "stream",
     "text": [
      "4.9561827182769775  segundos de calculo de combinaciones iniciales\n",
      "156513  size antes\n",
      "156511  size despues\n",
      "4.9796531200408936  segundos de calculo de combinaciones finales\n",
      "42678290603 positivo\n",
      "\n",
      "40028394225 positivo\n",
      "\n",
      "44708635679 positivo\n",
      "\n",
      "82693916578 positivo\n",
      "\n",
      "32164049650 positivo\n",
      "\n",
      "32164049651 positivo\n",
      "\n",
      "94204591914 positivo\n",
      "\n",
      "49388550606 positivo\n",
      "\n",
      "[32164049650, 32164049651, 40028394225, 42678290603, 44708635679, 49388550606, 82693916578, 94204591914] todos los positivos\n",
      "tiempo total es 6.368654251098633\n"
     ]
    }
   ],
   "source": [
    "t=time.time()\n",
    "NNPA(11)\n",
    "f=time.time()\n",
    "print(f\"tiempo total es {f-t}\")"
   ]
  },
  {
   "cell_type": "code",
   "execution_count": 8,
   "metadata": {},
   "outputs": [
    {
     "name": "stdout",
     "output_type": "stream",
     "text": [
      "20.339787244796753  segundos de calculo de combinaciones iniciales\n",
      "768562  size antes\n",
      "766220  size despues\n",
      "20.54531693458557  segundos de calculo de combinaciones finales\n",
      "28116440335967 positivo\n",
      "\n",
      "[28116440335967] todos los positivos\n",
      "tiempo total es 27.773195266723633\n"
     ]
    }
   ],
   "source": [
    "t=time.time()\n",
    "NNPA(14)\n",
    "f=time.time()\n",
    "print(f\"tiempo total es {f-t}\")"
   ]
  },
  {
   "cell_type": "code",
   "execution_count": 10,
   "metadata": {},
   "outputs": [
    {
     "name": "stdout",
     "output_type": "stream",
     "text": [
      "67.8217830657959  segundos de calculo de combinaciones iniciales\n",
      "1950589  size antes\n",
      "1946748  size despues\n",
      "68.26450848579407  segundos de calculo de combinaciones finales\n",
      "4338281769391370 positivo\n",
      "\n",
      "4338281769391371 positivo\n",
      "\n",
      "[4338281769391370, 4338281769391371] todos los positivos\n",
      "tiempo total es 92.04295134544373\n"
     ]
    }
   ],
   "source": [
    "t=time.time()\n",
    "NNPA(16)\n",
    "f=time.time()\n",
    "print(f\"tiempo total es {f-t}\")"
   ]
  },
  {
   "cell_type": "code",
   "execution_count": 12,
   "metadata": {},
   "outputs": [
    {
     "name": "stdout",
     "output_type": "stream",
     "text": [
      "104.13630056381226  segundos de calculo de combinaciones iniciales\n",
      "2956582  size antes\n",
      "2956581  size despues\n",
      "104.56644105911255  segundos de calculo de combinaciones finales\n",
      "35641594208964132 positivo\n",
      "\n",
      "35875699062250035 positivo\n",
      "\n",
      "21897142587612075 positivo\n",
      "\n",
      "[21897142587612075, 35641594208964132, 35875699062250035] todos los positivos\n",
      "tiempo total es 145.20561623573303\n"
     ]
    }
   ],
   "source": [
    "t=time.time()\n",
    "NNPA(17)\n",
    "f=time.time()\n",
    "print(f\"tiempo total es {f-t}\")"
   ]
  },
  {
   "cell_type": "code",
   "execution_count": 14,
   "metadata": {},
   "outputs": [
    {
     "name": "stdout",
     "output_type": "stream",
     "text": [
      "264.5220720767975  segundos de calculo de combinaciones iniciales\n",
      "6738932  size antes\n",
      "6738931  size despues\n",
      "265.4619824886322  segundos de calculo de combinaciones finales\n",
      "1517841543307505039 positivo\n",
      "\n",
      "4929273885928088826 positivo\n",
      "\n",
      "3289582984443187032 positivo\n",
      "\n",
      "4498128791164624869 positivo\n",
      "\n",
      "[1517841543307505039, 3289582984443187032, 4498128791164624869, 4929273885928088826] todos los positivos\n",
      "tiempo total es 361.33374094963074\n"
     ]
    }
   ],
   "source": [
    "t=time.time()\n",
    "NNPA(19)\n",
    "f=time.time()\n",
    "print(f\"tiempo total es {f-t}\")"
   ]
  },
  {
   "cell_type": "code",
   "execution_count": 2,
   "metadata": {},
   "outputs": [
    {
     "name": "stdout",
     "output_type": "stream",
     "text": [
      "267.79988503456116  segundos de calculo de combinaciones iniciales\n",
      "9847037  size antes\n",
      "9837779  size despues\n",
      "269.7576744556427  segundos de calculo de combinaciones finales\n",
      "63105425988599693916 positivo\n",
      "\n",
      "[63105425988599693916] todos los positivos\n",
      "tiempo total es 374.1383571624756\n"
     ]
    }
   ],
   "source": [
    "t=time.time()\n",
    "NNPA(20)\n",
    "f=time.time()\n",
    "print(f\"tiempo total es {f-t}\")"
   ]
  },
  {
   "cell_type": "code",
   "execution_count": 15,
   "metadata": {
    "scrolled": true
   },
   "outputs": [
    {
     "name": "stdout",
     "output_type": "stream",
     "text": [
      "776.5827593803406  segundos de calculo de combinaciones iniciales\n",
      "14139182  size antes\n",
      "14139181  size despues\n",
      "779.2592451572418  segundos de calculo de combinaciones finales\n",
      "128468643043731391252 positivo\n",
      "\n",
      "449177399146038697307 positivo\n",
      "\n",
      "[128468643043731391252, 449177399146038697307] todos los positivos\n",
      "tiempo total es 1022.3543889522552\n"
     ]
    }
   ],
   "source": [
    "t=time.time()\n",
    "NNPA(21)\n",
    "f=time.time()\n",
    "print(f\"tiempo total es {f-t}\")"
   ]
  },
  {
   "cell_type": "code",
   "execution_count": 16,
   "metadata": {},
   "outputs": [
    {
     "name": "stdout",
     "output_type": "stream",
     "text": [
      "1296.7851402759552  segundos de calculo de combinaciones iniciales\n",
      "27880760  size antes\n",
      "27880759  size despues\n",
      "1306.0406818389893  segundos de calculo de combinaciones finales\n",
      "27879694893054074471405 positivo\n",
      "\n",
      "27907865009977052567814 positivo\n",
      "\n",
      "28361281321319229463398 positivo\n",
      "\n",
      "21887696841122916288858 positivo\n",
      "\n",
      "35452590104031691935943 positivo\n",
      "\n",
      "[21887696841122916288858, 27879694893054074471405, 27907865009977052567814, 28361281321319229463398, 35452590104031691935943] todos los positivos\n",
      "tiempo total es 1728.1741166114807\n"
     ]
    }
   ],
   "source": [
    "t=time.time()\n",
    "NNPA(23)\n",
    "f=time.time()\n",
    "print(f\"tiempo total es {f-t}\")"
   ]
  },
  {
   "cell_type": "code",
   "execution_count": 4,
   "metadata": {
    "scrolled": true
   },
   "outputs": [
    {
     "name": "stdout",
     "output_type": "stream",
     "text": [
      "1525.4454996585846  segundos de calculo de combinaciones iniciales\n",
      "38399060  size antes\n",
      "38379969  size despues\n",
      "1546.2066271305084  segundos de calculo de combinaciones finales\n",
      "188451485447897896036875 positivo\n",
      "\n",
      "174088005938065293023722 positivo\n",
      "\n",
      "239313664430041569350093 positivo\n",
      "\n",
      "[174088005938065293023722, 188451485447897896036875, 239313664430041569350093] todos los positivos\n",
      "tiempo total es 2145.268525838852\n"
     ]
    }
   ],
   "source": [
    "t=time.time()\n",
    "NNPA(24)\n",
    "f=time.time()\n",
    "print(f\"tiempo total es {f-t}\")"
   ]
  },
  {
   "cell_type": "code",
   "execution_count": 5,
   "metadata": {},
   "outputs": [
    {
     "name": "stdout",
     "output_type": "stream",
     "text": [
      "1985.1962757110596  segundos de calculo de combinaciones iniciales\n",
      "52283215  size antes\n",
      "52283215  size despues\n",
      "1992.1094019412994  segundos de calculo de combinaciones finales\n",
      "1553242162893771850669378 positivo\n",
      "\n",
      "4422095118095899619457938 positivo\n",
      "\n",
      "3706907995955475988644380 positivo\n",
      "\n",
      "3706907995955475988644381 positivo\n",
      "\n",
      "1550475334214501539088894 positivo\n",
      "\n",
      "[1550475334214501539088894, 1553242162893771850669378, 3706907995955475988644380, 3706907995955475988644381, 4422095118095899619457938] todos los positivos\n",
      "tiempo total es 2617.020992040634\n"
     ]
    }
   ],
   "source": [
    "t=time.time()\n",
    "NNPA(25)\n",
    "f=time.time()\n",
    "print(f\"tiempo total es {f-t}\")"
   ]
  },
  {
   "cell_type": "code",
   "execution_count": 2,
   "metadata": {
    "scrolled": true
   },
   "outputs": [
    {
     "name": "stdout",
     "output_type": "stream",
     "text": [
      "7199.810725450516  segundos de calculo de combinaciones iniciales\n",
      "94094579  size antes\n",
      "94094579  size despues\n",
      "7289.7415907382965  segundos de calculo de combinaciones finales\n",
      "121270696006801314328439376 positivo\n",
      "\n",
      "174650464499531377631639254 positivo\n",
      "\n",
      "121204998563613372405438066 positivo\n",
      "\n",
      "177265453171792792366489765 positivo\n",
      "\n",
      "128851796696487777842012787 positivo\n",
      "\n",
      "[121204998563613372405438066, 121270696006801314328439376, 128851796696487777842012787, 174650464499531377631639254, 177265453171792792366489765] todos los positivos\n",
      "tiempo total es 9771.661010026932\n"
     ]
    }
   ],
   "source": [
    "t=time.time()\n",
    "NNPA(27)\n",
    "f=time.time()\n",
    "print(f\"tiempo total es {f-t}\")"
   ]
  },
  {
   "cell_type": "code",
   "execution_count": null,
   "metadata": {
    "scrolled": true
   },
   "outputs": [
    {
     "name": "stdout",
     "output_type": "stream",
     "text": [
      "10628.670635223389  segundos de calculo de combinaciones iniciales\n",
      "162999750  size antes\n",
      "162999750  size despues\n",
      "11437.786715745926  segundos de calculo de combinaciones finales\n",
      "19008174136254279995012734740 positivo\n",
      "\n",
      "19008174136254279995012734741 positivo\n",
      "\n",
      "14607640612971980372614873089 positivo\n",
      "\n",
      "23866716435523975980390369295 positivo\n",
      "\n"
     ]
    }
   ],
   "source": [
    "t=time.time()\n",
    "NNPA(29)\n",
    "f=time.time()\n",
    "print(f\"tiempo total es {f-t}\")"
   ]
  },
  {
   "cell_type": "markdown",
   "metadata": {},
   "source": [
    "### aqui vemos un ejemplo de que tan rapido habria sido usar librerias externas, es un cambio muy pequeño que hicimos sin si quiera conocer la herramienta que permitio pasar el calculo de 20 digitos de374 segundos a menos de 150, aun así preferimos entregar el codigo anterior en vez de este ya que no sentimos que ese ahorro de tiempo sea merito propio."
   ]
  },
  {
   "cell_type": "code",
   "execution_count": 50,
   "metadata": {},
   "outputs": [],
   "source": [
    "import time\n",
    "\n",
    "from collections import Counter\n",
    "import itertools as itools\n",
    "\n",
    "\n",
    "def NNPOpcional(d):\n",
    "    inid=time.time()\n",
    "    if d in (2,12,13,15,18,22,26,28,30,36):\n",
    "        return\n",
    "    combi=set()\n",
    "    for i in itools.combinations_with_replacement(range(10),d):\n",
    "        combi.add(ZZ(i,10))\n",
    "    \n",
    "    finald1=time.time()\n",
    "    print(finald1-inid, \" segundos de calculo de combinaciones iniciales\")\n",
    "    finald2=time.time()\n",
    "    #print(combi)\n",
    "    print(len(combi), \" size antes\")\n",
    "    if(d%2==0):\n",
    "        no_NNP=set()\n",
    "        for i in Combinations([1,3,5,7,9],d):\n",
    "            no_NNP.add(ZZ(i,10))\n",
    "        combi=combi-no_NNP\n",
    "       \n",
    "    seguro_no_NNP=set()\n",
    "    print(len(combi), \" size despues\")\n",
    "    result=[]\n",
    "    finald=time.time()\n",
    "    print(finald-inid, \" segundos de calculo de combinaciones finales\")\n",
    "    #sumas=[]\n",
    "    for num in combi:\n",
    "        digitos=num.digits()\n",
    "        p=sum(k**d for k in digitos)\n",
    "        if(Counter(digitos)==Counter(Integer(p).digits())):\n",
    "            print(p, \"positivo\\n\")\n",
    "            result.append(p)\n",
    "               \n",
    "    result.sort()\n",
    "    print(result, \"todos los positivos\")"
   ]
  },
  {
   "cell_type": "code",
   "execution_count": 49,
   "metadata": {},
   "outputs": [
    {
     "name": "stdout",
     "output_type": "stream",
     "text": [
      "87.8699963092804  segundos de calculo de combinaciones iniciales\n",
      "10015005  size antes\n",
      "10015005  size despues\n",
      "89.29796028137207  segundos de calculo de combinaciones finales\n",
      "0 positivo\n",
      "\n",
      "63105425988599693916 positivo\n",
      "\n",
      "[0, 63105425988599693916] todos los positivos\n",
      "tiempo total es 235.89534401893616\n"
     ]
    }
   ],
   "source": [
    "t=time.time()\n",
    "NNPOpcional(20)\n",
    "f=time.time()\n",
    "print(f\"tiempo total es {f-t}\")"
   ]
  },
  {
   "cell_type": "markdown",
   "metadata": {},
   "source": [
    "Creus que aquest treball t’ha ajudat a entendre millor alguns aspectes de\n",
    "l’assignatura?\n",
    "creemos que este trabajo ha sido util para ver que tan importante es una buena algoritmia y las tecnicas a emplear para no hacer calculos inecesarios en un problema. Nos hemos visto enfrentados a un problema muy grande que gracias a las herramientas proporcionadas este cuatrimestre ha sido algo mas accesible para nosotros apesar de su obvia dificultad.\n"
   ]
  },
  {
   "cell_type": "markdown",
   "metadata": {},
   "source": [
    "Creus que és millor avaluar les pràctiques amb un repte o creus que un\n",
    "examen tradicional és més adequat? \n",
    "A pesar de lo estresante del trabajo, ha sido muy entretenido, aun quitando la competitividad sentida en el aula frente el reto. Sin duda este metodo de evaluacion es mucho mas interesante que una simple prueba y creemos que tambien ayuda al profesorado a ver como su alumnado piensa y enfrenta un problema real."
   ]
  },
  {
   "cell_type": "markdown",
   "metadata": {},
   "source": [
    "<html>\n",
    "    <body>\n",
    "        <div style=\"background-color: #B0C4DE\">Eric Herrera Cano, Valentina María Calicchio Aguirre  </div>\n",
    "    </body>\n",
    "</html>"
   ]
  }
 ],
 "metadata": {
  "kernelspec": {
   "display_name": "SageMath 9.2",
   "language": "sage",
   "name": "sagemath"
  },
  "language_info": {
   "codemirror_mode": {
    "name": "ipython",
    "version": 3
   },
   "file_extension": ".py",
   "mimetype": "text/x-python",
   "name": "python",
   "nbconvert_exporter": "python",
   "pygments_lexer": "ipython3",
   "version": "3.7.7"
  }
 },
 "nbformat": 4,
 "nbformat_minor": 4
}
